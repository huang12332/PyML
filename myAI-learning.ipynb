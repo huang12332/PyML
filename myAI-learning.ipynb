{
  "nbformat": 4,
  "nbformat_minor": 0,
  "metadata": {
    "colab": {
      "provenance": [],
      "authorship_tag": "ABX9TyM+Od0ihkLFqg5VNQXa8RkJ",
      "include_colab_link": true
    },
    "kernelspec": {
      "name": "python3",
      "display_name": "Python 3"
    },
    "language_info": {
      "name": "python"
    }
  },
  "cells": [
    {
      "cell_type": "markdown",
      "metadata": {
        "id": "view-in-github",
        "colab_type": "text"
      },
      "source": [
        "<a href=\"https://colab.research.google.com/github/huang12332/PyML/blob/main/myAI-learning.ipynb\" target=\"_parent\"><img src=\"https://colab.research.google.com/assets/colab-badge.svg\" alt=\"Open In Colab\"/></a>"
      ]
    },
    {
      "cell_type": "code",
      "execution_count": null,
      "metadata": {
        "id": "CrwR28_YcWeR",
        "colab": {
          "base_uri": "https://localhost:8080/"
        },
        "outputId": "bbe448d7-40cb-4b33-d0cc-b1cff28d061f"
      },
      "outputs": [
        {
          "output_type": "stream",
          "name": "stdout",
          "text": [
            "Cloning into 'python-mnist'...\n",
            "remote: Enumerating objects: 246, done.\u001b[K\n",
            "remote: Counting objects: 100% (6/6), done.\u001b[K\n",
            "remote: Compressing objects: 100% (6/6), done.\u001b[K\n",
            "remote: Total 246 (delta 1), reused 2 (delta 0), pack-reused 240\u001b[K\n",
            "Receiving objects: 100% (246/246), 47.14 KiB | 1.43 MiB/s, done.\n",
            "Resolving deltas: 100% (119/119), done.\n",
            "--2024-03-10 14:13:49--  http://yann.lecun.com/exdb/mnist/\n",
            "Resolving yann.lecun.com (yann.lecun.com)... 104.21.29.36, 172.67.171.76, 2606:4700:3036::ac43:ab4c, ...\n",
            "Connecting to yann.lecun.com (yann.lecun.com)|104.21.29.36|:80... connected.\n",
            "HTTP request sent, awaiting response... 200 OK\n",
            "Length: unspecified [text/html]\n",
            "Saving to: ‘data/index.html.tmp’\n",
            "\n",
            "index.html.tmp          [ <=>                ]  28.49K  --.-KB/s    in 0s      \n",
            "\n",
            "2024-03-10 14:13:49 (272 MB/s) - ‘data/index.html.tmp’ saved [29170]\n",
            "\n",
            "Loading robots.txt; please ignore errors.\n",
            "--2024-03-10 14:13:49--  http://yann.lecun.com/robots.txt\n",
            "Reusing existing connection to yann.lecun.com:80.\n",
            "HTTP request sent, awaiting response... 404 Not Found\n",
            "2024-03-10 14:13:49 ERROR 404: Not Found.\n",
            "\n",
            "Removing data/index.html.tmp since it should be rejected.\n",
            "\n",
            "--2024-03-10 14:13:49--  http://yann.lecun.com/\n",
            "Reusing existing connection to yann.lecun.com:80.\n",
            "HTTP request sent, awaiting response... 200 OK\n",
            "Length: unspecified [text/html]\n",
            "Saving to: ‘data/index.html.tmp’\n",
            "\n",
            "index.html.tmp          [ <=>                ]  37.86K  --.-KB/s    in 0s      \n",
            "\n",
            "2024-03-10 14:13:50 (251 MB/s) - ‘data/index.html.tmp’ saved [38772]\n",
            "\n",
            "Removing data/index.html.tmp since it should be rejected.\n",
            "\n",
            "--2024-03-10 14:13:50--  http://yann.lecun.com/exdb/mnist/train-images-idx3-ubyte.gz\n",
            "Reusing existing connection to yann.lecun.com:80.\n",
            "HTTP request sent, awaiting response... 200 OK\n",
            "Length: 9912422 (9.5M) [application/x-gzip]\n",
            "Saving to: ‘data/train-images-idx3-ubyte.gz’\n",
            "\n",
            "train-images-idx3-u 100%[===================>]   9.45M  --.-KB/s    in 0.08s   \n",
            "\n",
            "2024-03-10 14:13:50 (114 MB/s) - ‘data/train-images-idx3-ubyte.gz’ saved [9912422/9912422]\n",
            "\n",
            "--2024-03-10 14:13:50--  http://yann.lecun.com/exdb/mnist/train-labels-idx1-ubyte.gz\n",
            "Reusing existing connection to yann.lecun.com:80.\n",
            "HTTP request sent, awaiting response... 200 OK\n",
            "Length: 28881 (28K) [application/x-gzip]\n",
            "Saving to: ‘data/train-labels-idx1-ubyte.gz’\n",
            "\n",
            "train-labels-idx1-u 100%[===================>]  28.20K  --.-KB/s    in 0s      \n",
            "\n",
            "2024-03-10 14:13:50 (245 MB/s) - ‘data/train-labels-idx1-ubyte.gz’ saved [28881/28881]\n",
            "\n",
            "--2024-03-10 14:13:50--  http://yann.lecun.com/exdb/mnist/t10k-images-idx3-ubyte.gz\n",
            "Reusing existing connection to yann.lecun.com:80.\n",
            "HTTP request sent, awaiting response... 200 OK\n",
            "Length: 1648877 (1.6M) [application/x-gzip]\n",
            "Saving to: ‘data/t10k-images-idx3-ubyte.gz’\n",
            "\n",
            "t10k-images-idx3-ub 100%[===================>]   1.57M  --.-KB/s    in 0.006s  \n",
            "\n",
            "2024-03-10 14:13:50 (281 MB/s) - ‘data/t10k-images-idx3-ubyte.gz’ saved [1648877/1648877]\n",
            "\n",
            "--2024-03-10 14:13:50--  http://yann.lecun.com/exdb/mnist/t10k-labels-idx1-ubyte.gz\n",
            "Reusing existing connection to yann.lecun.com:80.\n",
            "HTTP request sent, awaiting response... 200 OK\n",
            "Length: 4542 (4.4K) [application/x-gzip]\n",
            "Saving to: ‘data/t10k-labels-idx1-ubyte.gz’\n",
            "\n",
            "t10k-labels-idx1-ub 100%[===================>]   4.44K  --.-KB/s    in 0s      \n",
            "\n",
            "2024-03-10 14:13:50 (508 MB/s) - ‘data/t10k-labels-idx1-ubyte.gz’ saved [4542/4542]\n",
            "\n",
            "FINISHED --2024-03-10 14:13:50--\n",
            "Total wall clock time: 0.4s\n",
            "Downloaded: 6 files, 11M in 0.09s (125 MB/s)\n",
            "/content/data /content\n",
            "/content\n",
            "total 20\n",
            "-rwxr-xr-x 1 root root  337 Mar 10 14:13 emnist_get_data.sh\n",
            "-rwxr-xr-x 1 root root 1237 Mar 10 14:13 emnist_preview\n",
            "-rwxr-xr-x 1 root root 1205 Mar 10 14:13 emnist_repack\n",
            "-rwxr-xr-x 1 root root  284 Mar 10 14:13 mnist_get_data.sh\n",
            "-rwxr-xr-x 1 root root  865 Mar 10 14:13 mnist_preview\n",
            "Collecting emnist\n",
            "  Downloading emnist-0.0-py3-none-any.whl (7.3 kB)\n",
            "Requirement already satisfied: numpy in /usr/local/lib/python3.10/dist-packages (from emnist) (1.25.2)\n",
            "Requirement already satisfied: requests in /usr/local/lib/python3.10/dist-packages (from emnist) (2.31.0)\n",
            "Requirement already satisfied: tqdm in /usr/local/lib/python3.10/dist-packages (from emnist) (4.66.2)\n",
            "Requirement already satisfied: charset-normalizer<4,>=2 in /usr/local/lib/python3.10/dist-packages (from requests->emnist) (3.3.2)\n",
            "Requirement already satisfied: idna<4,>=2.5 in /usr/local/lib/python3.10/dist-packages (from requests->emnist) (3.6)\n",
            "Requirement already satisfied: urllib3<3,>=1.21.1 in /usr/local/lib/python3.10/dist-packages (from requests->emnist) (2.0.7)\n",
            "Requirement already satisfied: certifi>=2017.4.17 in /usr/local/lib/python3.10/dist-packages (from requests->emnist) (2024.2.2)\n",
            "Installing collected packages: emnist\n",
            "Successfully installed emnist-0.0\n"
          ]
        }
      ],
      "source": [
        "# STEP 1.1\n",
        "\n",
        "! git clone https://github.com/sorki/python-mnist\n",
        "! ./python-mnist/bin/mnist_get_data.sh\n",
        "! ls -l ./python-mnist/bin\n",
        "! pip3 install emnist\n",
        "\n",
        "from emnist import extract_training_samples\n",
        "\n",
        "# from urilib"
      ]
    },
    {
      "cell_type": "code",
      "source": [
        "# STEP 1.2\n",
        "\n",
        "# Grab the data from the OpenML website\n",
        "# X will be our images and y will be the labels\n",
        "X, y = extract_training_samples('letters')\n",
        "\n",
        "# Make sure that every pixel in all of the images is a value between 0 and 1\n",
        "X = X / 255.0\n",
        "\n",
        "# Use the first 6e4 instances as training and next 1e4 as testing\n",
        "X_train, X_test = X[:60000], X[60000:70000]\n",
        "y_train, y_test = y[:60000], y[60000:70000]\n",
        "\n",
        "X_train = X_train.reshape(60000, 784)\n",
        "X_test = X_test.reshape(10000, 784)\n",
        "\n",
        "print(\"Extracted our samples and divided our training and teting data sets\")\n",
        "\n"
      ],
      "metadata": {
        "colab": {
          "base_uri": "https://localhost:8080/"
        },
        "id": "YrpuDZhtzuN_",
        "outputId": "49ba7842-9420-4980-b259-b8716bf715b3"
      },
      "execution_count": null,
      "outputs": [
        {
          "output_type": "stream",
          "name": "stderr",
          "text": [
            "Downloading emnist.zip: 536MB [00:08, 68.0MB/s]\n"
          ]
        },
        {
          "output_type": "stream",
          "name": "stdout",
          "text": [
            "Extracted our samples and divided our training and teting data sets\n"
          ]
        }
      ]
    },
    {
      "cell_type": "code",
      "source": [
        "# STEP 1.3\n",
        "\n",
        "import matplotlib.pyplot as plt\n",
        "import numpy as np\n",
        "\n",
        "img_index = 8888  # <<<< You can update this value to look at other image\n",
        "img = X_train[img_index]\n",
        "# y_train = y_train.astype(np.int64)\n",
        "# print(y_train.dtype)\n",
        "print(\"Image Label: \" + str(chr(y_train[img_index]+96)))\n",
        "plt.imshow(img.reshape((28,28)))"
      ],
      "metadata": {
        "colab": {
          "base_uri": "https://localhost:8080/",
          "height": 465
        },
        "id": "MulyW-Bq5Rkk",
        "outputId": "bad00733-f464-441d-d04c-4eeb52bb1acc"
      },
      "execution_count": null,
      "outputs": [
        {
          "output_type": "stream",
          "name": "stdout",
          "text": [
            "Image Label: y\n"
          ]
        },
        {
          "output_type": "execute_result",
          "data": {
            "text/plain": [
              "<matplotlib.image.AxesImage at 0x7b19a1dba620>"
            ]
          },
          "metadata": {},
          "execution_count": 8
        },
        {
          "output_type": "display_data",
          "data": {
            "text/plain": [
              "<Figure size 640x480 with 1 Axes>"
            ],
            "image/png": "[encoded data removed]"
          },
          "metadata": {}
        }
      ]
    },
    {
      "cell_type": "code",
      "source": [
        "# STEP 2.1\n",
        "\n",
        "# These two lines import the ML lib we needd\n",
        "from sklearn.datasets import fetch_openml\n",
        "from sklearn.neural_network import MLPClassifier\n",
        "\n",
        "# This create first MLP with 1 hidden layer with 50 neurons and sets it to run through the data 20 times\n",
        "mlp1 = MLPClassifier(hidden_layer_sizes=(50,), max_iter=20,\n",
        "                    alpha=1e-4, solver='sgd', verbose=10, tol=1e-4, random_state=1, learning_rate_init=.1)\n",
        "print(\"Created our first MLP network\")\n"
      ],
      "metadata": {
        "colab": {
          "base_uri": "https://localhost:8080/"
        },
        "id": "HEd0hRkL_N3a",
        "outputId": "7e7db40d-8063-45d8-b6f5-180092458e86"
      },
      "execution_count": null,
      "outputs": [
        {
          "output_type": "stream",
          "name": "stdout",
          "text": [
            "Created our first MLP network\n"
          ]
        }
      ]
    },
    {
      "source": [
        "mlp1 = MLPClassifier(hidden_layer_sizes=(50,), max_iter=20,\n",
        "                    alpha=1e-4, solver='sgd', verbose=10, tol=1e-4, random_state=1, learning_rate_init=.1)"
      ],
      "cell_type": "code",
      "metadata": {
        "id": "aBOTnEN8Aem7"
      },
      "execution_count": null,
      "outputs": []
    },
    {
      "cell_type": "code",
      "source": [
        "# STEP 3.3\n",
        "# You can change this to any letters that you think the nerual network may have confused...\n",
        "predicted_letter = 'u'\n",
        "actual_letter='v'\n",
        "\n",
        "# This code counts all mistakes for the letters above\n",
        "mistake_list = []\n",
        "for i in range(len(y_test)):\n",
        "  if y_test[i] == ord(actual_letter) - 96 and y_pred[i] == ord(predicted_letter) - 96:\n",
        "    mistake_list.append(i)\n",
        "print(\"There were \" + str(len(mistake_list)) + \" times that the letter \" + actual_letter + \" was predicted to be the letter \" + predicted_letter + \".\")\n",
        "\n",
        "# Once we know how many mistakes were made , we can change this to see an image of a particular one\n",
        "mistake_to_show = 4\n",
        "\n",
        "# This code checks that the number mistake you asked for can be shown and if so, displays an image of it\n",
        "if len(mistake_list) > mistake_to_show:\n",
        "  img = X_test[mistake_list[mistake_to_show]]\n",
        "  plt.imshow(img.reshape((28, 28)))\n",
        "else:\n",
        "  print(\"The number mistake you asked for cannot be shown.\")\n",
        "  print(\"Couldn't show mistake number \" + str(mistke_to_show + 1) + \"because there were only \" + str(len(mistake_list)) + \"mistakes to show\")"
      ],
      "metadata": {
        "colab": {
          "base_uri": "https://localhost:8080/",
          "height": 228
        },
        "id": "sK7LuHrwBIwt",
        "outputId": "a3b82dbd-2f44-43a3-802d-8e89c38ccd7f"
      },
      "execution_count": null,
      "outputs": [
        {
          "output_type": "error",
          "ename": "NameError",
          "evalue": "name 'y_pred' is not defined",
          "traceback": [
            "\u001b[0;31m---------------------------------------------------------------------------\u001b[0m",
            "\u001b[0;31mNameError\u001b[0m                                 Traceback (most recent call last)",
            "\u001b[0;32m<ipython-input-11-3b1075a05fdc>\u001b[0m in \u001b[0;36m<cell line: 8>\u001b[0;34m()\u001b[0m\n\u001b[1;32m      7\u001b[0m \u001b[0mmistake_list\u001b[0m \u001b[0;34m=\u001b[0m \u001b[0;34m[\u001b[0m\u001b[0;34m]\u001b[0m\u001b[0;34m\u001b[0m\u001b[0;34m\u001b[0m\u001b[0m\n\u001b[1;32m      8\u001b[0m \u001b[0;32mfor\u001b[0m \u001b[0mi\u001b[0m \u001b[0;32min\u001b[0m \u001b[0mrange\u001b[0m\u001b[0;34m(\u001b[0m\u001b[0mlen\u001b[0m\u001b[0;34m(\u001b[0m\u001b[0my_test\u001b[0m\u001b[0;34m)\u001b[0m\u001b[0;34m)\u001b[0m\u001b[0;34m:\u001b[0m\u001b[0;34m\u001b[0m\u001b[0;34m\u001b[0m\u001b[0m\n\u001b[0;32m----> 9\u001b[0;31m   \u001b[0;32mif\u001b[0m \u001b[0my_test\u001b[0m\u001b[0;34m[\u001b[0m\u001b[0mi\u001b[0m\u001b[0;34m]\u001b[0m \u001b[0;34m==\u001b[0m \u001b[0mord\u001b[0m\u001b[0;34m(\u001b[0m\u001b[0mactual_letter\u001b[0m\u001b[0;34m)\u001b[0m \u001b[0;34m-\u001b[0m \u001b[0;36m96\u001b[0m \u001b[0;32mand\u001b[0m \u001b[0my_pred\u001b[0m\u001b[0;34m[\u001b[0m\u001b[0mi\u001b[0m\u001b[0;34m]\u001b[0m \u001b[0;34m==\u001b[0m \u001b[0mord\u001b[0m\u001b[0;34m(\u001b[0m\u001b[0mpredicted_letter\u001b[0m\u001b[0;34m)\u001b[0m \u001b[0;34m-\u001b[0m \u001b[0;36m96\u001b[0m\u001b[0;34m:\u001b[0m\u001b[0;34m\u001b[0m\u001b[0;34m\u001b[0m\u001b[0m\n\u001b[0m\u001b[1;32m     10\u001b[0m     \u001b[0mmistake_list\u001b[0m\u001b[0;34m.\u001b[0m\u001b[0mappend\u001b[0m\u001b[0;34m(\u001b[0m\u001b[0mi\u001b[0m\u001b[0;34m)\u001b[0m\u001b[0;34m\u001b[0m\u001b[0;34m\u001b[0m\u001b[0m\n\u001b[1;32m     11\u001b[0m \u001b[0mprint\u001b[0m\u001b[0;34m(\u001b[0m\u001b[0;34m\"There were \"\u001b[0m \u001b[0;34m+\u001b[0m \u001b[0mstr\u001b[0m\u001b[0;34m(\u001b[0m\u001b[0mlen\u001b[0m\u001b[0;34m(\u001b[0m\u001b[0mmistake_list\u001b[0m\u001b[0;34m)\u001b[0m\u001b[0;34m)\u001b[0m \u001b[0;34m+\u001b[0m \u001b[0;34m\" times that the letter \"\u001b[0m \u001b[0;34m+\u001b[0m \u001b[0mactual_letter\u001b[0m \u001b[0;34m+\u001b[0m \u001b[0;34m\" was predicted to be the letter \"\u001b[0m \u001b[0;34m+\u001b[0m \u001b[0mpredicted_letter\u001b[0m \u001b[0;34m+\u001b[0m \u001b[0;34m\".\"\u001b[0m\u001b[0;34m)\u001b[0m\u001b[0;34m\u001b[0m\u001b[0;34m\u001b[0m\u001b[0m\n",
            "\u001b[0;31mNameError\u001b[0m: name 'y_pred' is not defined"
          ]
        }
      ]
    },
    {
      "cell_type": "code",
      "source": [
        "# STEP 3.4\n",
        "\n",
        "# Change some of the values in the below statement and re-run to see how they\n",
        "# affect performance !\n",
        "\n",
        "mlp2 = MLPClassifier(hidden_layer_sizes=(100,100,100,100,100,), max_iter=50,\n",
        "                    alpha=1e-4, solver='sgd', verbose=10, tol=1e-4, random_state=1, learning_rate_init=.1)\n",
        "\n",
        "mlp2.fit(X_train, y_train)\n",
        "print(\"Training set scrore: %f % mlp2.score(X_train, y_train)\")\n",
        "print(\"Test set score: %f\" % mlp2.score(X_test,y_test))\n"
      ],
      "metadata": {
        "colab": {
          "base_uri": "https://localhost:8080/"
        },
        "id": "R8Wg3R74siLv",
        "outputId": "c69a5e30-95ec-4a64-a7d3-5391ad09991d"
      },
      "execution_count": null,
      "outputs": [
        {
          "output_type": "stream",
          "name": "stdout",
          "text": [
            "Iteration 1, loss = 1.15599672\n",
            "Iteration 2, loss = 0.54834774\n",
            "Iteration 3, loss = 0.44784035\n",
            "Iteration 4, loss = 0.39865207\n",
            "Iteration 5, loss = 0.36308811\n",
            "Iteration 6, loss = 0.33567397\n",
            "Iteration 7, loss = 0.31904877\n",
            "Iteration 8, loss = 0.29485588\n",
            "Iteration 9, loss = 0.27846574\n",
            "Iteration 10, loss = 0.26938228\n",
            "Iteration 11, loss = 0.25802023\n",
            "Iteration 12, loss = 0.25723763\n",
            "Iteration 13, loss = 0.24065077\n",
            "Iteration 14, loss = 0.23433676\n",
            "Iteration 15, loss = 0.23485496\n",
            "Iteration 16, loss = 0.23001491\n",
            "Iteration 17, loss = 0.22096406\n",
            "Iteration 18, loss = 0.21950345\n",
            "Iteration 19, loss = 0.20777329\n",
            "Iteration 20, loss = 0.20980027\n",
            "Iteration 21, loss = 0.21037847\n",
            "Iteration 22, loss = 0.20318075\n",
            "Iteration 23, loss = 0.20824472\n",
            "Iteration 24, loss = 0.19769558\n",
            "Iteration 25, loss = 0.19448822\n",
            "Iteration 26, loss = 0.19312831\n",
            "Iteration 27, loss = 0.19070016\n",
            "Iteration 28, loss = 0.19506724\n",
            "Iteration 29, loss = 0.18994664\n",
            "Iteration 30, loss = 0.18468292\n",
            "Iteration 31, loss = 0.19614047\n",
            "Iteration 32, loss = 0.19832638\n",
            "Iteration 33, loss = 0.18469470\n",
            "Iteration 34, loss = 0.17462696\n",
            "Iteration 35, loss = 0.17539212\n",
            "Iteration 36, loss = 0.18885389\n",
            "Iteration 37, loss = 0.17773582\n",
            "Iteration 38, loss = 0.16925846\n",
            "Iteration 39, loss = 0.17989281\n",
            "Iteration 40, loss = 0.17353411\n",
            "Iteration 41, loss = 0.18179144\n",
            "Iteration 42, loss = 0.17865350\n",
            "Iteration 43, loss = 0.17174149\n",
            "Iteration 44, loss = 0.17433637\n",
            "Iteration 45, loss = 0.17649701\n",
            "Iteration 46, loss = 0.17965740\n",
            "Iteration 47, loss = 0.16644906\n",
            "Iteration 48, loss = 0.16974640\n",
            "Iteration 49, loss = 0.16569554\n",
            "Iteration 50, loss = 0.16854811\n",
            "Training set scrore: %f % mlp2.score(X_train, y_train)\n",
            "Test set score: 0.890700\n"
          ]
        },
        {
          "output_type": "stream",
          "name": "stderr",
          "text": [
            "/usr/local/lib/python3.10/dist-packages/sklearn/neural_network/_multilayer_perceptron.py:686: ConvergenceWarning: Stochastic Optimizer: Maximum iterations (50) reached and the optimization hasn't converged yet.\n",
            "  warnings.warn(\n"
          ]
        }
      ]
    },
    {
      "cell_type": "code",
      "source": [
        "!python -V"
      ],
      "metadata": {
        "id": "MA5RN2oe5Dt5"
      },
      "execution_count": null,
      "outputs": []
    },
    {
      "cell_type": "code",
      "source": [
        "# STEP 4.1\n",
        "\n",
        "# Pulls the scanned data set from GitHub\n",
        "!git clone https://github.com/crash-course-ai/lab1-neural-networks.git\n",
        "!git pull\n",
        "!ls lab1-neural-networks/letters_mod\n",
        "!cd  /content/lab1-neural-networks/letters-letters_mod\n",
        "!pwd\n",
        "\n",
        "import os\n",
        "path, dirs, files = next(os.walk(\"/cotent/lab1-neural-networks/letters_mod/\"))\n",
        "files.sort(...)\n"
      ],
      "metadata": {
        "colab": {
          "base_uri": "https://localhost:8080/",
          "height": 488
        },
        "id": "5H3r8viruyEV",
        "outputId": "0c7c437f-fb77-46dc-bc32-41c97e1bcb13"
      },
      "execution_count": null,
      "outputs": [
        {
          "output_type": "stream",
          "name": "stdout",
          "text": [
            "Cloning into 'lab1-neural-networks'...\n",
            "remote: Enumerating objects: 152, done.\u001b[K\n",
            "remote: Total 152 (delta 0), reused 0 (delta 0), pack-reused 152\u001b[K\n",
            "Receiving objects: 100% (152/152), 4.60 MiB | 18.71 MiB/s, done.\n",
            "Resolving deltas: 100% (59/59), done.\n",
            "fatal: not a git repository (or any of the parent directories): .git\n",
            "00.jpg\t09.jpg\t18.jpg\t27.jpg\t36.jpg\t45.jpg\t54.jpg\t63.jpg\t72.jpg\t81.jpg\t90.jpg\t99.jpg\n",
            "01.jpg\t10.jpg\t19.jpg\t28.jpg\t37.jpg\t46.jpg\t55.jpg\t64.jpg\t73.jpg\t82.jpg\t91.jpg\n",
            "02.jpg\t11.jpg\t20.jpg\t29.jpg\t38.jpg\t47.jpg\t56.jpg\t65.jpg\t74.jpg\t83.jpg\t92.jpg\n",
            "03.jpg\t12.jpg\t21.jpg\t30.jpg\t39.jpg\t48.jpg\t57.jpg\t66.jpg\t75.jpg\t84.jpg\t93.jpg\n",
            "04.jpg\t13.jpg\t22.jpg\t31.jpg\t40.jpg\t49.jpg\t58.jpg\t67.jpg\t76.jpg\t85.jpg\t94.jpg\n",
            "05.jpg\t14.jpg\t23.jpg\t32.jpg\t41.jpg\t50.jpg\t59.jpg\t68.jpg\t77.jpg\t86.jpg\t95.jpg\n",
            "06.jpg\t15.jpg\t24.jpg\t33.jpg\t42.jpg\t51.jpg\t60.jpg\t69.jpg\t78.jpg\t87.jpg\t96.jpg\n",
            "07.jpg\t16.jpg\t25.jpg\t34.jpg\t43.jpg\t52.jpg\t61.jpg\t70.jpg\t79.jpg\t88.jpg\t97.jpg\n",
            "08.jpg\t17.jpg\t26.jpg\t35.jpg\t44.jpg\t53.jpg\t62.jpg\t71.jpg\t80.jpg\t89.jpg\t98.jpg\n",
            "/bin/bash: line 1: cd: /content/lab1-neural-networks/letters-letters_mod: No such file or directory\n",
            "/content\n"
          ]
        },
        {
          "output_type": "error",
          "ename": "StopIteration",
          "evalue": "",
          "traceback": [
            "\u001b[0;31m---------------------------------------------------------------------------\u001b[0m",
            "\u001b[0;31mStopIteration\u001b[0m                             Traceback (most recent call last)",
            "\u001b[0;32m<ipython-input-13-79598d75221b>\u001b[0m in \u001b[0;36m<cell line: 11>\u001b[0;34m()\u001b[0m\n\u001b[1;32m      9\u001b[0m \u001b[0;34m\u001b[0m\u001b[0m\n\u001b[1;32m     10\u001b[0m \u001b[0;32mimport\u001b[0m \u001b[0mos\u001b[0m\u001b[0;34m\u001b[0m\u001b[0;34m\u001b[0m\u001b[0m\n\u001b[0;32m---> 11\u001b[0;31m \u001b[0mpath\u001b[0m\u001b[0;34m,\u001b[0m \u001b[0mdirs\u001b[0m\u001b[0;34m,\u001b[0m \u001b[0mfiles\u001b[0m \u001b[0;34m=\u001b[0m \u001b[0mnext\u001b[0m\u001b[0;34m(\u001b[0m\u001b[0mos\u001b[0m\u001b[0;34m.\u001b[0m\u001b[0mwalk\u001b[0m\u001b[0;34m(\u001b[0m\u001b[0;34m\"/cotent/lab1-neural-networks/letters_mod/\"\u001b[0m\u001b[0;34m)\u001b[0m\u001b[0;34m)\u001b[0m\u001b[0;34m\u001b[0m\u001b[0;34m\u001b[0m\u001b[0m\n\u001b[0m\u001b[1;32m     12\u001b[0m \u001b[0mfiles\u001b[0m\u001b[0;34m.\u001b[0m\u001b[0msort\u001b[0m\u001b[0;34m(\u001b[0m\u001b[0;34m...\u001b[0m\u001b[0;34m)\u001b[0m\u001b[0;34m\u001b[0m\u001b[0;34m\u001b[0m\u001b[0m\n",
            "\u001b[0;31mStopIteration\u001b[0m: "
          ]
        }
      ]
    },
    {
      "cell_type": "code",
      "source": [
        "# STEP 4.2\n",
        "\n",
        "# These libaraies let us import the letters , resize them, and print them out\n",
        "import cv2\n",
        "import matplotlib,pyplot as plt\n",
        "\n",
        "#This code processs all the scanned images and adds them to the handwrtten_story\n",
        "handwritten_story = []\n",
        "for i in range(len(files)):\n",
        "  img = cv2.imread(\"/content/lab1-nerual-networks/letters_mod\" + files[i], cv2.IMREAD_GRAYSCALE)\n",
        "  handwritten_story.append(img)\n",
        "\n",
        "print(\"Imported the scanned images.\")\n",
        "\n",
        "plt.imshow(handwritten_story[4])  #<----- Change this index to see diff letters"
      ],
      "metadata": {
        "colab": {
          "base_uri": "https://localhost:8080/",
          "height": 384
        },
        "id": "tKQr1zCIvVio",
        "outputId": "cf5411b7-b791-4d62-b66c-9ac7e2b979ab"
      },
      "execution_count": null,
      "outputs": [
        {
          "output_type": "error",
          "ename": "ModuleNotFoundError",
          "evalue": "No module named 'pyplot'",
          "traceback": [
            "\u001b[0;31m---------------------------------------------------------------------------\u001b[0m",
            "\u001b[0;31mModuleNotFoundError\u001b[0m                       Traceback (most recent call last)",
            "\u001b[0;32m<ipython-input-14-7a2e57613f7b>\u001b[0m in \u001b[0;36m<cell line: 5>\u001b[0;34m()\u001b[0m\n\u001b[1;32m      3\u001b[0m \u001b[0;31m# These libaraies let us import the letters , resize them, and print them out\u001b[0m\u001b[0;34m\u001b[0m\u001b[0;34m\u001b[0m\u001b[0m\n\u001b[1;32m      4\u001b[0m \u001b[0;32mimport\u001b[0m \u001b[0mcv2\u001b[0m\u001b[0;34m\u001b[0m\u001b[0;34m\u001b[0m\u001b[0m\n\u001b[0;32m----> 5\u001b[0;31m \u001b[0;32mimport\u001b[0m \u001b[0mmatplotlib\u001b[0m\u001b[0;34m,\u001b[0m\u001b[0mpyplot\u001b[0m \u001b[0;32mas\u001b[0m \u001b[0mplt\u001b[0m\u001b[0;34m\u001b[0m\u001b[0;34m\u001b[0m\u001b[0m\n\u001b[0m\u001b[1;32m      6\u001b[0m \u001b[0;34m\u001b[0m\u001b[0m\n\u001b[1;32m      7\u001b[0m \u001b[0;31m#This code processs all the scanned images and adds them to the handwrtten_story\u001b[0m\u001b[0;34m\u001b[0m\u001b[0;34m\u001b[0m\u001b[0m\n",
            "\u001b[0;31mModuleNotFoundError\u001b[0m: No module named 'pyplot'",
            "",
            "\u001b[0;31m---------------------------------------------------------------------------\u001b[0;32m\nNOTE: If your import is failing due to a missing package, you can\nmanually install dependencies using either !pip or !apt.\n\nTo view examples of installing some common dependencies, click the\n\"Open Examples\" button below.\n\u001b[0;31m---------------------------------------------------------------------------\u001b[0m\n"
          ],
          "errorDetails": {
            "actions": [
              {
                "action": "open_url",
                "actionText": "Open Examples",
                "url": "/notebooks/snippets/importing_libraries.ipynb"
              }
            ]
          }
        }
      ]
    },
    {
      "cell_type": "markdown",
      "source": [],
      "metadata": {
        "id": "7eTEqlQU5DZd"
      }
    }
  ]
}